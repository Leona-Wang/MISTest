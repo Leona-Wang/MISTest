{
 "cells": [
  {
   "cell_type": "code",
   "execution_count": 1,
   "metadata": {},
   "outputs": [
    {
     "name": "stdout",
     "output_type": "stream",
     "text": [
      "Requirement already satisfied: pytube in c:\\users\\user\\appdata\\local\\programs\\python\\python38-32\\lib\\site-packages (15.0.0)\n"
     ]
    },
    {
     "name": "stderr",
     "output_type": "stream",
     "text": [
      "WARNING: You are using pip version 20.1.1; however, version 24.1.1 is available.\n",
      "You should consider upgrading via the 'c:\\users\\user\\appdata\\local\\programs\\python\\python38-32\\python.exe -m pip install --upgrade pip' command.\n"
     ]
    }
   ],
   "source": [
    "! pip install pytube"
   ]
  },
  {
   "cell_type": "code",
   "execution_count": 2,
   "metadata": {},
   "outputs": [],
   "source": [
    "import os\n",
    "from pytube import YouTube"
   ]
  },
  {
   "cell_type": "code",
   "execution_count": 3,
   "metadata": {},
   "outputs": [],
   "source": [
    "def clean_title(title):\n",
    "    # 清理标题中的双引号\n",
    "    cleaned_title = title.replace('\"', '')\n",
    "    return cleaned_title"
   ]
  },
  {
   "cell_type": "code",
   "execution_count": 4,
   "metadata": {},
   "outputs": [],
   "source": [
    "def download_video(url):\n",
    "    try:\n",
    "        # 创建 YouTube 对象\n",
    "        yt = YouTube(url)\n",
    "        \n",
    "        # 获取视频标题并清理\n",
    "        video_title = yt.title\n",
    "        cleaned_video_title = clean_title(video_title)\n",
    "        \n",
    "        # 获取音频标题并清理\n",
    "        audio_title = yt.streams.filter(only_audio=True, file_extension='mp4').order_by('abr').desc().first().title\n",
    "        cleaned_audio_title = clean_title(audio_title)\n",
    "        \n",
    "        # 选择最高分辨率的视频流（仅视频）\n",
    "        video_stream = yt.streams.filter(progressive=False, file_extension='mp4').order_by('resolution').desc().first()\n",
    "        \n",
    "        # 选择最高质量的音频流\n",
    "        audio_stream = yt.streams.filter(only_audio=True, file_extension='mp4').order_by('abr').desc().first()\n",
    "        \n",
    "        # 定义当前工作目录\n",
    "        save_path = os.getcwd()\n",
    "        \n",
    "        # 下载视频和音频\n",
    "        video_path = video_stream.download(output_path=save_path, filename_prefix=\"video_\")\n",
    "        audio_path = audio_stream.download(output_path=save_path, filename_prefix=\"audio_\")\n",
    "        \n",
    "        # 定义最终的输出文件名\n",
    "        final_output = os.path.join(save_path, f\"{cleaned_video_title}_{cleaned_audio_title}.mp4\")\n",
    "        \n",
    "        # 使用 ffmpeg 合并视频和音频流\n",
    "        ffmpeg_command = f\"ffmpeg -i \\\"{video_path}\\\" -i \\\"{audio_path}\\\" -c:v copy -c:a aac \\\"{final_output}\\\"\"\n",
    "        os.system(ffmpeg_command)\n",
    "\n",
    "        os.remove(video_path)\n",
    "        os.remove(audio_path)\n",
    "        \n",
    "        print(\"视频和音频下载完成并合并。\")\n",
    "        \n",
    "    except Exception as e:\n",
    "        print(f\"下载失败: {e}\")"
   ]
  },
  {
   "cell_type": "code",
   "execution_count": 5,
   "metadata": {},
   "outputs": [
    {
     "name": "stdout",
     "output_type": "stream",
     "text": [
      "视频和音频下载完成并合并。\n"
     ]
    }
   ],
   "source": [
    "\n",
    "if __name__ == \"__main__\":\n",
    "    # 從用戶處獲取影片 URL\n",
    "    video_url = input(\"請輸入 YouTube 影片的 URL: \")\n",
    "    \n",
    "    # 下載影片\n",
    "    download_video(video_url)"
   ]
  }
 ],
 "metadata": {
  "kernelspec": {
   "display_name": "Python 3",
   "language": "python",
   "name": "python3"
  },
  "language_info": {
   "codemirror_mode": {
    "name": "ipython",
    "version": 3
   },
   "file_extension": ".py",
   "mimetype": "text/x-python",
   "name": "python",
   "nbconvert_exporter": "python",
   "pygments_lexer": "ipython3",
   "version": "3.8.5"
  }
 },
 "nbformat": 4,
 "nbformat_minor": 2
}
