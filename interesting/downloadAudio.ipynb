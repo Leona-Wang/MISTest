{
 "cells": [
  {
   "cell_type": "code",
   "execution_count": 1,
   "metadata": {},
   "outputs": [
    {
     "name": "stdout",
     "output_type": "stream",
     "text": [
      "Requirement already satisfied: pytube in c:\\users\\user\\appdata\\local\\programs\\python\\python38-32\\lib\\site-packages (15.0.0)\n",
      "Requirement already satisfied: pydub in c:\\users\\user\\appdata\\local\\programs\\python\\python38-32\\lib\\site-packages (0.25.1)\n"
     ]
    }
   ],
   "source": [
    "! pip install pytube\n",
    "! pip install pydub"
   ]
  },
  {
   "cell_type": "code",
   "execution_count": 2,
   "metadata": {},
   "outputs": [],
   "source": [
    "from pytube import YouTube\n",
    "from pydub import AudioSegment\n",
    "import os"
   ]
  },
  {
   "cell_type": "code",
   "execution_count": 3,
   "metadata": {},
   "outputs": [],
   "source": [
    "def download_and_convert_to_mp3(url):\n",
    "    try:\n",
    "        # 創建 YouTube 物件\n",
    "        yt = YouTube(url)\n",
    "        \n",
    "        # 選擇最高音質的音頻流\n",
    "        audio_stream = yt.streams.filter(only_audio=True).first()\n",
    "        \n",
    "        # 下載音頻\n",
    "        output_file = audio_stream.download()\n",
    "        \n",
    "        # 定義 MP3 輸出文件名\n",
    "        base, ext = os.path.splitext(output_file)\n",
    "        mp3_file = base + '.mp3'\n",
    "        \n",
    "        # 使用 pydub 將下載的音頻文件轉換為 MP3\n",
    "        AudioSegment.from_file(output_file).export(mp3_file, format=\"mp3\")\n",
    "        \n",
    "        # 刪除原始下載的文件\n",
    "        os.remove(output_file)\n",
    "        \n",
    "        print(f\"影片已下載並轉換為 MP3: {mp3_file}\")\n",
    "    except Exception as e:\n",
    "        print(f\"下載或轉換失敗: {e}\")"
   ]
  },
  {
   "cell_type": "code",
   "execution_count": 4,
   "metadata": {},
   "outputs": [
    {
     "name": "stdout",
     "output_type": "stream",
     "text": [
      "影片已下載並轉換為 MP3: d:\\WangLeona\\github\\program\\MISTest\\interesting\\Catastrophic disaster Biden tries to speak without a teleprompter.mp3\n"
     ]
    }
   ],
   "source": [
    "if __name__ == \"__main__\":\n",
    "    # 從用戶處獲取影片 URL\n",
    "    video_url = input(\"請輸入 YouTube 影片的 URL: \")\n",
    "    \n",
    "    # 下載並轉換影片為 MP3\n",
    "    download_and_convert_to_mp3(video_url)"
   ]
  }
 ],
 "metadata": {
  "kernelspec": {
   "display_name": "Python 3",
   "language": "python",
   "name": "python3"
  },
  "language_info": {
   "codemirror_mode": {
    "name": "ipython",
    "version": 3
   },
   "file_extension": ".py",
   "mimetype": "text/x-python",
   "name": "python",
   "nbconvert_exporter": "python",
   "pygments_lexer": "ipython3",
   "version": "3.8.5"
  }
 },
 "nbformat": 4,
 "nbformat_minor": 2
}
